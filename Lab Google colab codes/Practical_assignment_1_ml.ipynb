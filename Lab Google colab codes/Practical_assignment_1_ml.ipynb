{
  "nbformat": 4,
  "nbformat_minor": 0,
  "metadata": {
    "colab": {
      "provenance": []
    },
    "kernelspec": {
      "name": "python3",
      "display_name": "Python 3"
    },
    "language_info": {
      "name": "python"
    }
  },
  "cells": [
    {
      "cell_type": "code",
      "execution_count": null,
      "metadata": {
        "id": "3QlJeFhx19jC"
      },
      "outputs": [],
      "source": [
        "import numpy as np\n",
        "import pandas as pd\n",
        "from sklearn.model_selection import train_test_split\n",
        "from sklearn.metrics import accuracy_score, classification_report, confusion_matrix"
      ]
    },
    {
      "cell_type": "code",
      "source": [
        "# 1. Generate Dummy Student Data\n",
        "np.random.seed(0)\n",
        "N = 60\n",
        "data = pd.DataFrame({\n",
        "    'hours_studied': np.random.randint(1, 10, N),          # 1 to 9 hours/day\n",
        "    'attendance_pct': np.random.randint(50, 101, N),       # 50% to 100% attendance\n",
        "    'assignments_done': np.random.randint(5, 21, N)        # 5 to 20 assignments\n",
        "})"
      ],
      "metadata": {
        "id": "BXeYY6xD2Fp2"
      },
      "execution_count": null,
      "outputs": []
    },
    {
      "cell_type": "code",
      "source": [
        "# Generate exam score (continuous)\n",
        "data['exam_score'] = (\n",
        "    data['hours_studied'] * 8 +\n",
        "    data['attendance_pct'] * 2 +\n",
        "    data['assignments_done'] * 3 +\n",
        "    np.random.normal(0, 15, N)  # Noise\n",
        ")"
      ],
      "metadata": {
        "id": "hRJ0iCLq2NcW"
      },
      "execution_count": null,
      "outputs": []
    },
    {
      "cell_type": "code",
      "source": [
        "\n",
        "# Discretize target: Low=0, Medium=1, High=2\n",
        "bins = [0, 500, 800, np.inf]\n",
        "labels = [0, 1, 2]\n",
        "data['score_class'] = pd.cut(data['exam_score'], bins=bins, labels=labels).astype(int)\n",
        "\n",
        "X = data[['hours_studied', 'attendance_pct', 'assignments_done']]\n",
        "y = data['score_class']\n",
        "n_classes = len(y.unique())"
      ],
      "metadata": {
        "id": "NiXcuuu22Skb"
      },
      "execution_count": null,
      "outputs": []
    },
    {
      "cell_type": "code",
      "source": [
        "# 2. Train-Test Split\n",
        "# =============================\n",
        "X_train, X_test, y_train, y_test = train_test_split(\n",
        "    X, y, test_size=0.2, random_state=42, stratify=y\n",
        ")\n",
        "\n",
        "# Convert to NumPy\n",
        "X_train_np = X_train.values\n",
        "y_train_np = y_train.values\n",
        "X_test_np = X_test.values\n",
        "y_test_np = y_test.values"
      ],
      "metadata": {
        "id": "aX93FJs12Wa_"
      },
      "execution_count": null,
      "outputs": []
    },
    {
      "cell_type": "code",
      "source": [
        "# 3. Logistic Regression (One-vs-Rest)\n",
        "# =============================\n",
        "def sigmoid(z):\n",
        "    return 1 / (1 + np.exp(-z))\n",
        "\n",
        "def train_one_vs_rest(X, y, n_classes, lr=1e-4, n_iter=5000):\n",
        "    n_samples, n_features = X.shape\n",
        "    weights = []\n",
        "    for k in range(n_classes):\n",
        "        yk = (y == k).astype(np.float64)\n",
        "        w = np.zeros(n_features)\n",
        "        b = 0.0\n",
        "        for _ in range(n_iter):\n",
        "            logits = np.dot(X, w) + b\n",
        "            y_pred = sigmoid(logits)\n",
        "            dw = np.dot(X.T, (y_pred - yk)) / n_samples\n",
        "            db = np.sum(y_pred - yk) / n_samples\n",
        "            w -= lr * dw\n",
        "            b -= lr * db\n",
        "        weights.append({'w': w, 'b': b})\n",
        "    return weights\n",
        "\n",
        "def predict(X, weights):\n",
        "    n_samples = X.shape[0]\n",
        "    n_classes = len(weights)\n",
        "    probs = np.zeros((n_samples, n_classes))\n",
        "    for k in range(n_classes):\n",
        "        w = weights[k]['w']\n",
        "        b = weights[k]['b']\n",
        "        logits = np.dot(X, w) + b\n",
        "        probs[:, k] = sigmoid(logits)\n",
        "    return np.argmax(probs, axis=1)\n"
      ],
      "metadata": {
        "id": "DpgyerVt2bQQ"
      },
      "execution_count": null,
      "outputs": []
    },
    {
      "cell_type": "code",
      "source": [
        "# 4. Train & Evaluate\n",
        "# =============================\n",
        "weights = train_one_vs_rest(X_train_np, y_train_np, n_classes)\n",
        "y_pred = predict(X_test_np, weights)\n",
        "\n",
        "print(\"Accuracy:\", accuracy_score(y_test_np, y_pred))\n",
        "print(\"\\nClassification Report:\\n\", classification_report(y_test_np, y_pred))\n",
        "print(\"\\nConfusion Matrix:\\n\", confusion_matrix(y_test_np, y_pred))"
      ],
      "metadata": {
        "colab": {
          "base_uri": "https://localhost:8080/"
        },
        "id": "yQl8nKT02e9j",
        "outputId": "9193aa96-e28e-4d2c-b569-c7a2ba6fee9e"
      },
      "execution_count": null,
      "outputs": [
        {
          "output_type": "stream",
          "name": "stdout",
          "text": [
            "Accuracy: 1.0\n",
            "\n",
            "Classification Report:\n",
            "               precision    recall  f1-score   support\n",
            "\n",
            "           0       1.00      1.00      1.00        12\n",
            "\n",
            "    accuracy                           1.00        12\n",
            "   macro avg       1.00      1.00      1.00        12\n",
            "weighted avg       1.00      1.00      1.00        12\n",
            "\n",
            "\n",
            "Confusion Matrix:\n",
            " [[12]]\n"
          ]
        },
        {
          "output_type": "stream",
          "name": "stderr",
          "text": [
            "/usr/local/lib/python3.11/dist-packages/sklearn/metrics/_classification.py:407: UserWarning: A single label was found in 'y_true' and 'y_pred'. For the confusion matrix to have the correct shape, use the 'labels' parameter to pass all known labels.\n",
            "  warnings.warn(\n"
          ]
        }
      ]
    },
    {
      "cell_type": "code",
      "source": [
        "# 5. Sample Predictions\n",
        "# =============================\n",
        "results = X_test.copy()\n",
        "results['true_score'] = data.loc[X_test.index, 'exam_score']\n",
        "results['true_class'] = y_test\n",
        "results['pred_class'] = y_pred\n",
        "print(results.head())"
      ],
      "metadata": {
        "colab": {
          "base_uri": "https://localhost:8080/"
        },
        "id": "8WEUUo682hye",
        "outputId": "96203eec-c5cb-4dbd-c44d-3f01aac971dd"
      },
      "execution_count": null,
      "outputs": [
        {
          "output_type": "stream",
          "name": "stdout",
          "text": [
            "    hours_studied  attendance_pct  assignments_done  true_score  true_class  \\\n",
            "22              4              85                 5  245.013384           0   \n",
            "28              4              99                15  289.208780           0   \n",
            "42              8              79                18  264.451259           0   \n",
            "20              9              65                 8  254.844130           0   \n",
            "14              7              97                15  275.942725           0   \n",
            "\n",
            "    pred_class  \n",
            "22           0  \n",
            "28           0  \n",
            "42           0  \n",
            "20           0  \n",
            "14           0  \n"
          ]
        }
      ]
    },
    {
      "cell_type": "code",
      "source": [
        "# 6. Class Distribution\n",
        "# =============================\n",
        "print(\"\\nClass distribution:\")\n",
        "print(data['score_class'].value_counts())"
      ],
      "metadata": {
        "id": "JIUg0OQh2kmx",
        "outputId": "06a3d1a4-dc57-45b5-e6f6-0b918435ad92",
        "colab": {
          "base_uri": "https://localhost:8080/"
        }
      },
      "execution_count": null,
      "outputs": [
        {
          "output_type": "stream",
          "name": "stdout",
          "text": [
            "\n",
            "Class distribution:\n",
            "score_class\n",
            "0    60\n",
            "Name: count, dtype: int64\n"
          ]
        }
      ]
    },
    {
      "cell_type": "code",
      "source": [],
      "metadata": {
        "id": "BjuzZDYz2nRy"
      },
      "execution_count": null,
      "outputs": []
    }
  ]
}